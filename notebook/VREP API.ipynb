{
 "cells": [
  {
   "cell_type": "code",
   "execution_count": 1,
   "metadata": {
    "collapsed": false,
    "scrolled": true
   },
   "outputs": [
    {
     "name": "stdout",
     "output_type": "stream",
     "text": [
      "Populating the interactive namespace from numpy and matplotlib\n"
     ]
    }
   ],
   "source": [
    "%pylab inline\n",
    "import numpy as np\n",
    "import vrep\n",
    "import math\n",
    "import transformations\n",
    "import sys\n",
    "import time"
   ]
  },
  {
   "cell_type": "markdown",
   "metadata": {},
   "source": [
    "**SimulatorObject**"
   ]
  },
  {
   "cell_type": "code",
   "execution_count": 49,
   "metadata": {
    "collapsed": true
   },
   "outputs": [],
   "source": [
    "class SimulatorObject:\n",
    "    SERVO_MAP = {\"zumo\" : \"zumo\",\n",
    "                 \"neck\" : \"Neck\",\n",
    "                 \"head\" : \"Head\"}\n",
    "    MOTOR_MAP = {\"leftMotor\" : \"leftMotor\",\n",
    "                 \"leftMotor0\" : \"leftMotor0\"}\n",
    "    CAMERA_MAP = {\"camera\" : \"linescan_camera\"}\n",
    "    FLASHLIGHTS = {\"light\": \"Head\"}\n",
    "    LIGHT_SENSORS = { \"sensor\" : \"Head\"}\n",
    "    CID = -1\n",
    "\n",
    "    @staticmethod\n",
    "    def getCID():\n",
    "        if SimulatorObject.CID == -1:\n",
    "            a = vrep.simxStart('127.0.0.1',19997,True,True,5000,5)\n",
    "            SimulatorObject.CID = a\n",
    "        return SimulatorObject.CID;\n",
    "    \n",
    "    @staticmethod\n",
    "    def getNID(string):\n",
    "        if int(string) == 0:\n",
    "            return ''\n",
    "        return \"#\"+str(int(string)-1)\n",
    "    \n",
    "    @staticmethod\n",
    "    def parseString(string):\n",
    "        return string.split(\":\")\n",
    "    \n",
    "    @staticmethod\n",
    "    def getHandle(string):\n",
    "        print string\n",
    "        return vrep.simxGetObjectHandle(SimulatorObject.getCID(), string, vrep.simx_opmode_oneshot_wait)[1]\n",
    "    \n",
    "    @staticmethod\n",
    "    def getServo(string):\n",
    "        handles = SimulatorObject.parseString(string)\n",
    "        return {\"base_handle\" : SimulatorObject.getHandle(SimulatorObject.SERVO_MAP[handles[1]] + SimulatorObject.getNID(handles[0])),\n",
    "                \"head_handle\": SimulatorObject.getHandle(SimulatorObject.SERVO_MAP[handles[2]] + SimulatorObject.getNID(handles[0])),\n",
    "                \"joint_handle\": SimulatorObject.getHandle(SimulatorObject.SERVO_MAP[handles[3]] + SimulatorObject.getNID(handles[0]))}\n",
    "    \n",
    "    @staticmethod\n",
    "    def getMotor(string):\n",
    "        handles = SimulatorObject.parseString(string)\n",
    "        return SimulatorObject.getHandle(SimulatorObject.MOTOR_MAP[handles[1]] + SimulatorObject.getNID(handles[0]))\n",
    "\n",
    "    @staticmethod\n",
    "    def getCamera(string):\n",
    "        handles = SimulatorObject.parseString(string)\n",
    "        return SimulatorObject.getHandle(SimulatorObject.CAMERA_MAP[handles[1]] + SimulatorObject.getNID(handles[0]))\n",
    "    \n",
    "    @staticmethod\n",
    "    def getLightSensor(string):\n",
    "        handles = SimulatorObject.parseString(string)\n",
    "        return SimulatorObject.getHandle(SimulatorObject.LIGHT_SENSORS[handles[1]] + SimulatorObject.getNID(handles[0]))\n",
    "\n",
    "    @staticmethod\n",
    "    def getFlashlight(string):\n",
    "        handles = SimulatorObject.parseString(string)\n",
    "        return SimulatorObject.getHandle(SimulatorObject.FLASHLIGHTS[handles[1]] + SimulatorObject.getNID(handles[0]))\n",
    "    \n",
    "    #helper functions\n",
    "    @staticmethod\n",
    "    def get_position(handle):\n",
    "        ec, pos = vrep.simxGetObjectPosition(SimulatorObject.getCID(),\n",
    "                                             handle,\n",
    "                                             -1,\n",
    "                                             vrep.simx_opmode_onshot_wait)\n",
    "        return pos\n",
    "    \n",
    "    @staticmethod\n",
    "    def get_euler_angles(handle):\n",
    "        ec, angles = vrep.simxGetObjectOrientation(SimulatorObject.getCID(),\n",
    "                                                   handle,\n",
    "                                                   -1,\n",
    "                                                   vrep.simx_opmode_oneshot_wait)\n",
    "        return angles\n",
    "    \n",
    "    @staticmethod\n",
    "    def _tf_matrix(self, translation, euler_rot):\n",
    "        quat=transformations.quaternion_from_euler(euler_rot[0],\n",
    "                                                   euler_rot[1],\n",
    "                                                   euler_rot[2],\n",
    "                                                   'sxyz')\n",
    "        return np.dot(transformations.translation_matrix(translation),\n",
    "                      transformations.quaternion_matrix(quat))"
   ]
  },
  {
   "cell_type": "markdown",
   "metadata": {},
   "source": [
    "**Servo**"
   ]
  },
  {
   "cell_type": "code",
   "execution_count": 5,
   "metadata": {
    "collapsed": true
   },
   "outputs": [],
   "source": [
    "class Servo: \n",
    "    def __init__(self, id_string):\n",
    "        self.cid = SimulatorObject.getCID()\n",
    "        servoObject = SimulatorObject.getServo(id_string)\n",
    "        self.base_handle = servoObject['base_handle']\n",
    "        self.joint_handle = servoObject['joint_handle']\n",
    "        self.head_handle = servoObject['head_handle']\n",
    "        self.velocity = 0\n",
    "        self.angle = 0\n",
    "        \n",
    "    @property\n",
    "    def position(self):\n",
    "        \"\"\" TODO(ericnguyen): calibrate values returned\n",
    "        ec, angle = vrep.simxGetJointPosition(self.cid,\n",
    "                                              self.joint_handle,\n",
    "                                              vrep.simx_opmode_streaming)\n",
    "        return angle\n",
    "        \"\"\"\n",
    "        return self.angle\n",
    "    \n",
    "    @position.setter\n",
    "    def position(self, val):\n",
    "        vrep.simxSetJointPosition(self.cid, self.joint_handle, vrep.simx_opmode_wait)\n",
    "        self.angle = val\n",
    "        \n",
    "    @property\n",
    "    def velocity(self):\n",
    "        \"\"\" TODO(ericnguyen): calibrate values returned\n",
    "        ec, velocity = vrep.simxGetObjectFloatParameter(self.cid,\n",
    "                                              self.joint_handle,\n",
    "                                              2012,\n",
    "                                              vrep.simx_opmode_wait)\n",
    "        return velocity\n",
    "        \"\"\"\n",
    "        return self.velocity\n",
    "\n",
    "    @velocity.setter\n",
    "    def velocity(self, value):\n",
    "        vrep.simxSetJointVelocity(self.cid,\n",
    "                                  self.joint_handle,\n",
    "                                  value,\n",
    "                                  vrep.simx_opmode_oneshot_wait)\n",
    "        self.velocity = value"
   ]
  },
  {
   "cell_type": "markdown",
   "metadata": {},
   "source": [
    "**Motor**"
   ]
  },
  {
   "cell_type": "code",
   "execution_count": 15,
   "metadata": {
    "collapsed": true
   },
   "outputs": [],
   "source": [
    "class Motor(object):\n",
    "    def __init__(self, id_string):\n",
    "        self.cid = SimulatorObject.getCID()\n",
    "        self.motor_handle = SimulatorObject.getMotor(id_string)\n",
    "        self.velocity = 0\n",
    "\n",
    "    @property\n",
    "    def throttle(self):\n",
    "        \"\"\" TODO(ericnguyen): calibrate values returned\n",
    "        ec, velocity = vrep.simxGetObjectFloatParameter(self.cid,\n",
    "                                              self.motor_handle,\n",
    "                                              2012,\n",
    "                                              vrep.simx_opmode_oneshot_wait)\n",
    "        return velocity\n",
    "        \"\"\"\n",
    "        return self.velocity\n",
    "\n",
    "    @throttle.setter\n",
    "    def throttle(self, value):\n",
    "        vrep.simxSetJointTargetVelocity(self.cid,\n",
    "                                        self.motor_handle,\n",
    "                                        value,\n",
    "                                        vrep.simx_opmode_oneshot_wait)\n",
    "        self.velocity = 0"
   ]
  },
  {
   "cell_type": "code",
   "execution_count": 43,
   "metadata": {
    "collapsed": false
   },
   "outputs": [
    {
     "name": "stdout",
     "output_type": "stream",
     "text": [
      "leftMotor0#0\n"
     ]
    }
   ],
   "source": [
    "m = Motor(\"1:leftMotor0\")"
   ]
  },
  {
   "cell_type": "code",
   "execution_count": 46,
   "metadata": {
    "collapsed": false
   },
   "outputs": [
    {
     "data": {
      "text/plain": [
       "5.576133728027344"
      ]
     },
     "execution_count": 46,
     "metadata": {},
     "output_type": "execute_result"
    }
   ],
   "source": [
    "m.throttle"
   ]
  },
  {
   "cell_type": "code",
   "execution_count": 45,
   "metadata": {
    "collapsed": false
   },
   "outputs": [],
   "source": [
    "#vrep.simxStartSimulation(0, vrep.simx_opmode_oneshot_wait)\n",
    "m.throttle = 99"
   ]
  },
  {
   "cell_type": "markdown",
   "metadata": {},
   "source": [
    "**Line Scan Camera**"
   ]
  },
  {
   "cell_type": "code",
   "execution_count": 53,
   "metadata": {
    "collapsed": true
   },
   "outputs": [],
   "source": [
    "%matplotlib inline\n",
    "import numpy as np\n",
    "import matplotlib.pyplot as plt\n",
    "class LineScanCamera(object):\n",
    "    def __init__(self, id_string):\n",
    "        self.cid = SimulatorObject.getCID()\n",
    "        self.camera_handle = SimulatorObject.getCamera(id_string)\n",
    "\n",
    "    @property\n",
    "    def image(self):\n",
    "        ec, res, image = vrep.simxGetVisionSensorImage(self.cid,\n",
    "                                  self.camera_handle,\n",
    "                                  0,\n",
    "                                  vrep.simx_opmode_streaming)\n",
    "        return image"
   ]
  },
  {
   "cell_type": "code",
   "execution_count": 61,
   "metadata": {
    "collapsed": false
   },
   "outputs": [
    {
     "name": "stdout",
     "output_type": "stream",
     "text": [
      "linescan_camera\n"
     ]
    }
   ],
   "source": [
    "cam = LineScanCamera(\"0:camera\")"
   ]
  },
  {
   "cell_type": "code",
   "execution_count": 65,
   "metadata": {
    "collapsed": false
   },
   "outputs": [
    {
     "data": {
      "text/plain": [
       "[<matplotlib.lines.Line2D at 0x105aed990>]"
      ]
     },
     "execution_count": 65,
     "metadata": {},
     "output_type": "execute_result"
    },
    {
     "data": {
      "image/png": "[encoded data removed]",
      "text/plain": [
       "<matplotlib.figure.Figure at 0x1059c7e10>"
      ]
     },
     "metadata": {},
     "output_type": "display_data"
    }
   ],
   "source": [
    "#vrep.simxStartSimulation(0, vrep.simx_opmode_oneshot_wait)\n",
    "plt.plot(cam.image)"
   ]
  },
  {
   "cell_type": "markdown",
   "metadata": {},
   "source": [
    "**Flashlight**"
   ]
  },
  {
   "cell_type": "code",
   "execution_count": null,
   "metadata": {
    "collapsed": true
   },
   "outputs": [],
   "source": [
    "class Flashlight(object):\n",
    "    def __init__(self, string):\n",
    "        self._brightness = 0\n",
    "        self.handle = SimulatorObject.getFlashLight(string)\n",
    "        LightSensor.FLASHLIGHTS_REGISTERED.append(self)\n",
    "\n",
    "    @property\n",
    "    def brightness(self):\n",
    "        return self._brightness\n",
    "\n",
    "    def brightness_pt(self, pt,cone_h=10., cone_r=10.):\n",
    "        #do math\n",
    "        trans = SimulatorObject.get_position(self.handle)\n",
    "        euler_rots = SimulatorObject.get_euler_angles(self.handle)\n",
    "        headmat = SimulatorObject._tf_matrix(trans, euler_rots)\n",
    "        \n",
    "        point0= headmat * np.matrix([[0, 0, 0, 1]]).T\n",
    "        direction_vector = headmat * np.matrix([[1, 0, 0, 1]]).T - point0\n",
    "        \n",
    "        dummypos_vect = np.matrix([[pt[0], pt[1], pt[2], 1]]).T\n",
    "       \n",
    "        dist = np.dot(direction_vector.A1, dummypos_vect.A1)\n",
    "        dist_vect = dist * direction_vector\n",
    "        \n",
    "        radius_at_point = (dist / cone_h) * cone_r\n",
    "        \n",
    "        rel_vect = dummypos_vect - point0\n",
    "        to_get_distance = (rel_vect - dist_vect).A1\n",
    "        ortho_dist = np.sqrt(np.dot(to_get_distance, to_get_distance))\n",
    "        light = radius_at_point - ortho_dist\n",
    "        return 0 if light <=0 else light\n",
    "\n",
    "    @brightness.setter\n",
    "    def brightness(self, value):\n",
    "        self._brightness = value"
   ]
  },
  {
   "cell_type": "markdown",
   "metadata": {},
   "source": [
    "**Light Sensor**"
   ]
  },
  {
   "cell_type": "code",
   "execution_count": 6,
   "metadata": {
    "collapsed": true
   },
   "outputs": [],
   "source": [
    "class LightSensor(object):\n",
    "    FLASHLIGHTS_REGISTERED = []\n",
    "    def __init__(self, string):\n",
    "        self._light_value = 0\n",
    "        self.handle = SimulatorObject.getLightSensor(string)\n",
    "\n",
    "    @property\n",
    "    def light_value(self):\n",
    "        return sum([fl.brightness_pt(SimulatorObject.get_position(self.handle)) for fl in FLASHLIGHTS_REGISTERED])"
   ]
  },
  {
   "cell_type": "code",
   "execution_count": null,
   "metadata": {
    "collapsed": true
   },
   "outputs": [],
   "source": []
  },
  {
   "cell_type": "code",
   "execution_count": null,
   "metadata": {
    "collapsed": true
   },
   "outputs": [],
   "source": []
  }
 ],
 "metadata": {
  "kernelspec": {
   "display_name": "Python 2",
   "language": "python",
   "name": "python2"
  },
  "language_info": {
   "codemirror_mode": {
    "name": "ipython",
    "version": 2
   },
   "file_extension": ".py",
   "mimetype": "text/x-python",
   "name": "python",
   "nbconvert_exporter": "python",
   "pygments_lexer": "ipython2",
   "version": "2.7.8"
  }
 },
 "nbformat": 4,
 "nbformat_minor": 0
}
